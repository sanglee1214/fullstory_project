{
 "cells": [
  {
   "cell_type": "code",
   "execution_count": 1,
   "metadata": {},
   "outputs": [],
   "source": [
    "import pandas as pd\n",
    "import matplotlib.pyplot as plt\n",
    "\n",
    "from scipy import stats\n",
    "import numpy as np\n",
    "\n",
    "import seaborn as sns\n",
    "\n",
    "import datetime\n",
    "import random\n",
    "random.seed(30)\n",
    "%matplotlib inline"
   ]
  },
  {
   "cell_type": "code",
   "execution_count": 2,
   "metadata": {},
   "outputs": [],
   "source": [
    "#load the data\n",
    "df = pd.read_csv(\"yellow_tripdata_2017-06.csv\")"
   ]
  },
  {
   "cell_type": "code",
   "execution_count": 3,
   "metadata": {},
   "outputs": [
    {
     "data": {
      "text/html": [
       "<div>\n",
       "<style scoped>\n",
       "    .dataframe tbody tr th:only-of-type {\n",
       "        vertical-align: middle;\n",
       "    }\n",
       "\n",
       "    .dataframe tbody tr th {\n",
       "        vertical-align: top;\n",
       "    }\n",
       "\n",
       "    .dataframe thead th {\n",
       "        text-align: right;\n",
       "    }\n",
       "</style>\n",
       "<table border=\"1\" class=\"dataframe\">\n",
       "  <thead>\n",
       "    <tr style=\"text-align: right;\">\n",
       "      <th></th>\n",
       "      <th>VendorID</th>\n",
       "      <th>tpep_pickup_datetime</th>\n",
       "      <th>tpep_dropoff_datetime</th>\n",
       "      <th>passenger_count</th>\n",
       "      <th>trip_distance</th>\n",
       "      <th>RatecodeID</th>\n",
       "      <th>store_and_fwd_flag</th>\n",
       "      <th>PULocationID</th>\n",
       "      <th>DOLocationID</th>\n",
       "      <th>payment_type</th>\n",
       "      <th>fare_amount</th>\n",
       "      <th>extra</th>\n",
       "      <th>mta_tax</th>\n",
       "      <th>tip_amount</th>\n",
       "      <th>tolls_amount</th>\n",
       "      <th>improvement_surcharge</th>\n",
       "      <th>total_amount</th>\n",
       "    </tr>\n",
       "  </thead>\n",
       "  <tbody>\n",
       "    <tr>\n",
       "      <th>0</th>\n",
       "      <td>2</td>\n",
       "      <td>2017-06-08 07:52:31</td>\n",
       "      <td>2017-06-08 08:01:32</td>\n",
       "      <td>6</td>\n",
       "      <td>1.03</td>\n",
       "      <td>1</td>\n",
       "      <td>N</td>\n",
       "      <td>161</td>\n",
       "      <td>140</td>\n",
       "      <td>1</td>\n",
       "      <td>7.5</td>\n",
       "      <td>1.0</td>\n",
       "      <td>0.5</td>\n",
       "      <td>1.86</td>\n",
       "      <td>0.0</td>\n",
       "      <td>0.3</td>\n",
       "      <td>11.16</td>\n",
       "    </tr>\n",
       "    <tr>\n",
       "      <th>1</th>\n",
       "      <td>2</td>\n",
       "      <td>2017-06-08 08:08:18</td>\n",
       "      <td>2017-06-08 08:14:00</td>\n",
       "      <td>6</td>\n",
       "      <td>1.03</td>\n",
       "      <td>1</td>\n",
       "      <td>N</td>\n",
       "      <td>162</td>\n",
       "      <td>233</td>\n",
       "      <td>1</td>\n",
       "      <td>6.0</td>\n",
       "      <td>1.0</td>\n",
       "      <td>0.5</td>\n",
       "      <td>2.34</td>\n",
       "      <td>0.0</td>\n",
       "      <td>0.3</td>\n",
       "      <td>10.14</td>\n",
       "    </tr>\n",
       "    <tr>\n",
       "      <th>2</th>\n",
       "      <td>2</td>\n",
       "      <td>2017-06-08 08:16:49</td>\n",
       "      <td>2017-06-08 15:43:22</td>\n",
       "      <td>6</td>\n",
       "      <td>5.63</td>\n",
       "      <td>1</td>\n",
       "      <td>N</td>\n",
       "      <td>137</td>\n",
       "      <td>41</td>\n",
       "      <td>2</td>\n",
       "      <td>21.5</td>\n",
       "      <td>1.0</td>\n",
       "      <td>0.5</td>\n",
       "      <td>0.00</td>\n",
       "      <td>0.0</td>\n",
       "      <td>0.3</td>\n",
       "      <td>23.30</td>\n",
       "    </tr>\n",
       "    <tr>\n",
       "      <th>3</th>\n",
       "      <td>2</td>\n",
       "      <td>2017-06-29 15:52:35</td>\n",
       "      <td>2017-06-29 16:03:27</td>\n",
       "      <td>6</td>\n",
       "      <td>1.43</td>\n",
       "      <td>1</td>\n",
       "      <td>N</td>\n",
       "      <td>142</td>\n",
       "      <td>48</td>\n",
       "      <td>1</td>\n",
       "      <td>8.5</td>\n",
       "      <td>1.0</td>\n",
       "      <td>0.5</td>\n",
       "      <td>0.88</td>\n",
       "      <td>0.0</td>\n",
       "      <td>0.3</td>\n",
       "      <td>11.18</td>\n",
       "    </tr>\n",
       "    <tr>\n",
       "      <th>4</th>\n",
       "      <td>1</td>\n",
       "      <td>2017-06-01 00:00:00</td>\n",
       "      <td>2017-06-01 00:03:43</td>\n",
       "      <td>1</td>\n",
       "      <td>0.60</td>\n",
       "      <td>1</td>\n",
       "      <td>N</td>\n",
       "      <td>140</td>\n",
       "      <td>141</td>\n",
       "      <td>1</td>\n",
       "      <td>4.5</td>\n",
       "      <td>0.5</td>\n",
       "      <td>0.5</td>\n",
       "      <td>2.00</td>\n",
       "      <td>0.0</td>\n",
       "      <td>0.3</td>\n",
       "      <td>7.80</td>\n",
       "    </tr>\n",
       "  </tbody>\n",
       "</table>\n",
       "</div>"
      ],
      "text/plain": [
       "   VendorID tpep_pickup_datetime tpep_dropoff_datetime  passenger_count  \\\n",
       "0         2  2017-06-08 07:52:31   2017-06-08 08:01:32                6   \n",
       "1         2  2017-06-08 08:08:18   2017-06-08 08:14:00                6   \n",
       "2         2  2017-06-08 08:16:49   2017-06-08 15:43:22                6   \n",
       "3         2  2017-06-29 15:52:35   2017-06-29 16:03:27                6   \n",
       "4         1  2017-06-01 00:00:00   2017-06-01 00:03:43                1   \n",
       "\n",
       "   trip_distance  RatecodeID store_and_fwd_flag  PULocationID  DOLocationID  \\\n",
       "0           1.03           1                  N           161           140   \n",
       "1           1.03           1                  N           162           233   \n",
       "2           5.63           1                  N           137            41   \n",
       "3           1.43           1                  N           142            48   \n",
       "4           0.60           1                  N           140           141   \n",
       "\n",
       "   payment_type  fare_amount  extra  mta_tax  tip_amount  tolls_amount  \\\n",
       "0             1          7.5    1.0      0.5        1.86           0.0   \n",
       "1             1          6.0    1.0      0.5        2.34           0.0   \n",
       "2             2         21.5    1.0      0.5        0.00           0.0   \n",
       "3             1          8.5    1.0      0.5        0.88           0.0   \n",
       "4             1          4.5    0.5      0.5        2.00           0.0   \n",
       "\n",
       "   improvement_surcharge  total_amount  \n",
       "0                    0.3         11.16  \n",
       "1                    0.3         10.14  \n",
       "2                    0.3         23.30  \n",
       "3                    0.3         11.18  \n",
       "4                    0.3          7.80  "
      ]
     },
     "execution_count": 3,
     "metadata": {},
     "output_type": "execute_result"
    }
   ],
   "source": [
    "df.head()"
   ]
  },
  {
   "cell_type": "code",
   "execution_count": 4,
   "metadata": {},
   "outputs": [
    {
     "name": "stdout",
     "output_type": "stream",
     "text": [
      "total number of records:  9656993\n"
     ]
    }
   ],
   "source": [
    "print (\"total number of records: \",len(df))"
   ]
  },
  {
   "cell_type": "code",
   "execution_count": 5,
   "metadata": {},
   "outputs": [
    {
     "name": "stdout",
     "output_type": "stream",
     "text": [
      "<class 'pandas.core.frame.DataFrame'>\n",
      "RangeIndex: 9656993 entries, 0 to 9656992\n",
      "Data columns (total 17 columns):\n",
      "VendorID                 int64\n",
      "tpep_pickup_datetime     object\n",
      "tpep_dropoff_datetime    object\n",
      "passenger_count          int64\n",
      "trip_distance            float64\n",
      "RatecodeID               int64\n",
      "store_and_fwd_flag       object\n",
      "PULocationID             int64\n",
      "DOLocationID             int64\n",
      "payment_type             int64\n",
      "fare_amount              float64\n",
      "extra                    float64\n",
      "mta_tax                  float64\n",
      "tip_amount               float64\n",
      "tolls_amount             float64\n",
      "improvement_surcharge    float64\n",
      "total_amount             float64\n",
      "dtypes: float64(8), int64(6), object(3)\n",
      "memory usage: 1.2+ GB\n"
     ]
    }
   ],
   "source": [
    "#exploring datatypes\n",
    "df.info()"
   ]
  },
  {
   "cell_type": "code",
   "execution_count": 6,
   "metadata": {},
   "outputs": [
    {
     "data": {
      "text/plain": [
       "1    6933189\n",
       "2    1385066\n",
       "5     455753\n",
       "3     406162\n",
       "6     288220\n",
       "4     187979\n",
       "0        548\n",
       "8         30\n",
       "7         26\n",
       "9         20\n",
       "Name: passenger_count, dtype: int64"
      ]
     },
     "execution_count": 6,
     "metadata": {},
     "output_type": "execute_result"
    }
   ],
   "source": [
    "#number of passengers\n",
    "df['passenger_count'].value_counts()"
   ]
  },
  {
   "cell_type": "code",
   "execution_count": 7,
   "metadata": {},
   "outputs": [
    {
     "data": {
      "text/plain": [
       "1    6514906\n",
       "2    3073865\n",
       "3      52711\n",
       "4      15510\n",
       "5          1\n",
       "Name: payment_type, dtype: int64"
      ]
     },
     "execution_count": 7,
     "metadata": {},
     "output_type": "execute_result"
    }
   ],
   "source": [
    "#different payment types\n",
    "df['payment_type'].value_counts()"
   ]
  },
  {
   "cell_type": "code",
   "execution_count": 8,
   "metadata": {},
   "outputs": [
    {
     "data": {
      "text/plain": [
       "6294991   -550.30\n",
       "4748715   -400.80\n",
       "7430405   -360.96\n",
       "7881612   -259.30\n",
       "2970259   -223.56\n",
       "9123663   -223.46\n",
       "5527567   -216.30\n",
       "6576944   -200.80\n",
       "1624722   -200.35\n",
       "2872716   -198.30\n",
       "Name: total_amount, dtype: float64"
      ]
     },
     "execution_count": 8,
     "metadata": {},
     "output_type": "execute_result"
    }
   ],
   "source": [
    "#total amount paid by the customer by the lowest\n",
    "#I'm assuming the negative values are returns\n",
    "df['total_amount'].sort_values()[:10]"
   ]
  },
  {
   "cell_type": "code",
   "execution_count": 9,
   "metadata": {},
   "outputs": [
    {
     "data": {
      "text/plain": [
       "5773420    630463.12\n",
       "6007639    218317.09\n",
       "3527931     12891.25\n",
       "4201741      9999.99\n",
       "9218988      9999.99\n",
       "5640037      9999.99\n",
       "5203847      9999.99\n",
       "473417       8018.80\n",
       "2427507      3011.60\n",
       "2767752      1266.80\n",
       "Name: total_amount, dtype: float64"
      ]
     },
     "execution_count": 9,
     "metadata": {},
     "output_type": "execute_result"
    }
   ],
   "source": [
    "#total amount paid by the customer sorted by the highest\n",
    "#I know NYC can be expensive, but I doubt people will pay 630463.12 for a cab ride\n",
    "df['total_amount'].sort_values(ascending=False)[:10]"
   ]
  },
  {
   "cell_type": "code",
   "execution_count": 10,
   "metadata": {},
   "outputs": [
    {
     "data": {
      "text/plain": [
       "5773420    630463.12\n",
       "6007639    218317.09\n",
       "5640037      9999.99\n",
       "4201741      9999.99\n",
       "9218988      9999.99\n",
       "5203847      9999.99\n",
       "473417       8018.80\n",
       "2427507      3011.60\n",
       "2767752      1266.80\n",
       "6326359      1004.80\n",
       "Name: total_amount, dtype: float64"
      ]
     },
     "execution_count": 10,
     "metadata": {},
     "output_type": "execute_result"
    }
   ],
   "source": [
    "#Top 10 total amount that's been paid by credit card or cash\n",
    "#Even 1004 dollars seem a bit high for a taxi ride\n",
    "df[(df['payment_type'] == 1) | (df['payment_type'] == 2)]['total_amount'].sort_values(ascending=False)[:10]"
   ]
  },
  {
   "cell_type": "code",
   "execution_count": 11,
   "metadata": {},
   "outputs": [
    {
     "name": "stdout",
     "output_type": "stream",
     "text": [
      "N    9624906\n",
      "Y      32087\n",
      "Name: store_and_fwd_flag, dtype: int64\n",
      "0.0033226699035610774\n"
     ]
    }
   ],
   "source": [
    "print (df['store_and_fwd_flag'].value_counts())\n",
    "print (32087/len(df))"
   ]
  },
  {
   "cell_type": "code",
   "execution_count": 12,
   "metadata": {},
   "outputs": [
    {
     "data": {
      "text/plain": [
       "7495734    331.80\n",
       "2134702    307.55\n",
       "6055049    297.80\n",
       "2852074    264.30\n",
       "2210241    250.30\n",
       "2926979    227.30\n",
       "1073882    216.80\n",
       "7458903    212.80\n",
       "6907588    200.30\n",
       "2339783    196.30\n",
       "Name: total_amount, dtype: float64"
      ]
     },
     "execution_count": 12,
     "metadata": {},
     "output_type": "execute_result"
    }
   ],
   "source": [
    "df[((df['payment_type'] == 1) | (df['payment_type'] == 2)) & (df['store_and_fwd_flag']=='Y')]['total_amount'].sort_values(ascending=False)[:10]"
   ]
  },
  {
   "cell_type": "code",
   "execution_count": 13,
   "metadata": {},
   "outputs": [
    {
     "data": {
      "text/plain": [
       "3527931    12891.25\n",
       "5326944      939.56\n",
       "1913858      937.88\n",
       "211565       900.31\n",
       "2138576      893.84\n",
       "2285854      859.52\n",
       "1543609      858.65\n",
       "4590126      858.65\n",
       "6448401      840.30\n",
       "6447609      840.30\n",
       "Name: total_amount, dtype: float64"
      ]
     },
     "execution_count": 13,
     "metadata": {},
     "output_type": "execute_result"
    }
   ],
   "source": [
    "#top 10 total amount that was not charged, disputed, unknown, or voided\n",
    "df[(df['payment_type'] != 1) & (df['payment_type'] != 2)]['total_amount'].sort_values(ascending=False)[:10]"
   ]
  },
  {
   "cell_type": "code",
   "execution_count": 14,
   "metadata": {},
   "outputs": [
    {
     "name": "stdout",
     "output_type": "stream",
     "text": [
      "total records of non-valid payments: 68222\n"
     ]
    }
   ],
   "source": [
    "print (\"total records of non-valid payments:\",len(df[(df['payment_type'] != 1) & (df['payment_type'] != 2)]))"
   ]
  },
  {
   "cell_type": "code",
   "execution_count": 15,
   "metadata": {},
   "outputs": [
    {
     "name": "stdout",
     "output_type": "stream",
     "text": [
      "total records of valid payments: 9588771\n"
     ]
    }
   ],
   "source": [
    "print (\"total records of valid payments:\", len(df[(df['payment_type'] == 1) | (df['payment_type'] == 2)]))"
   ]
  },
  {
   "cell_type": "code",
   "execution_count": 16,
   "metadata": {},
   "outputs": [
    {
     "name": "stdout",
     "output_type": "stream",
     "text": [
      "[-50.56, -31.61, -4.5, -1.0, -0.5, -0.49, -0.45, -0.35, -0.2, 0.0, 0.01, 0.02, 0.1, 0.2, 0.21, 0.3, 0.4, 0.49, 0.5, 0.6, 0.7, 0.8, 0.9, 1.0, 1.01, 1.3, 1.5, 2.0, 2.5, 4.5, 4.54, 4.8, 7.06, 7.4, 22.5]\n"
     ]
    },
    {
     "data": {
      "text/plain": [
       "<matplotlib.axes._subplots.AxesSubplot at 0x165f39d30>"
      ]
     },
     "execution_count": 16,
     "metadata": {},
     "output_type": "execute_result"
    },
    {
     "data": {
      "image/png": "[encoded data removed]",
      "text/plain": [
       "<Figure size 432x288 with 1 Axes>"
      ]
     },
     "metadata": {
      "needs_background": "light"
     },
     "output_type": "display_data"
    }
   ],
   "source": [
    "#looking at miscellaneous extras and surcharges\n",
    "unique_extra = [round(i, 2) for i in df['extra'].unique()]\n",
    "unique_extra.sort()\n",
    "print (unique_extra)\n",
    "sns.boxplot(x=df['extra'])"
   ]
  },
  {
   "cell_type": "code",
   "execution_count": 17,
   "metadata": {},
   "outputs": [
    {
     "name": "stdout",
     "output_type": "stream",
     "text": [
      "[-0.5, 0.0, 0.25, 0.32, 0.5, 0.85, 0.9, 1.3, 3.0, 10.3, 11.3, 14.65, 24.0, 31.0, 31.55, 32.41, 43.0, 51.36, 53.8, 97.75, 140.0]\n"
     ]
    },
    {
     "data": {
      "text/plain": [
       "<matplotlib.axes._subplots.AxesSubplot at 0x1068ddf28>"
      ]
     },
     "execution_count": 17,
     "metadata": {},
     "output_type": "execute_result"
    },
    {
     "data": {
      "image/png": "[encoded data removed]",
      "text/plain": [
       "<Figure size 432x288 with 1 Axes>"
      ]
     },
     "metadata": {
      "needs_background": "light"
     },
     "output_type": "display_data"
    }
   ],
   "source": [
    "#unique mta tax values\n",
    "unique_mta_tax = [round(i, 2) for i in df['mta_tax'].unique()]\n",
    "unique_mta_tax.sort()\n",
    "print (unique_mta_tax)\n",
    "sns.boxplot(x=df['mta_tax'])"
   ]
  },
  {
   "cell_type": "code",
   "execution_count": 18,
   "metadata": {},
   "outputs": [
    {
     "data": {
      "text/plain": [
       "<matplotlib.axes._subplots.AxesSubplot at 0x107e904e0>"
      ]
     },
     "execution_count": 18,
     "metadata": {},
     "output_type": "execute_result"
    },
    {
     "data": {
      "image/png": "[encoded data removed]",
      "text/plain": [
       "<Figure size 432x288 with 1 Axes>"
      ]
     },
     "metadata": {
      "needs_background": "light"
     },
     "output_type": "display_data"
    }
   ],
   "source": [
    "unique_tip_amount = [round(i, 2) for i in df['tip_amount'].unique()]\n",
    "unique_tip_amount.sort()\n",
    "# print (unique_tip_amount)\n",
    "sns.boxplot(x=df['mta_tax'])"
   ]
  },
  {
   "cell_type": "code",
   "execution_count": 19,
   "metadata": {},
   "outputs": [],
   "source": [
    "# unique_tolls_amount = [round(i, 2) for i in df['tolls_amount'].unique()]\n",
    "# unique_tolls_amount.sort()\n",
    "# print (unique_tolls_amount)"
   ]
  },
  {
   "cell_type": "code",
   "execution_count": 20,
   "metadata": {},
   "outputs": [
    {
     "name": "stdout",
     "output_type": "stream",
     "text": [
      "[-0.3, 0.0, 0.3, 1.0]\n"
     ]
    }
   ],
   "source": [
    "#unique improvement surcharges\n",
    "unique_improvement_surcharge = [round(i, 2) for i in df['improvement_surcharge'].unique()]\n",
    "unique_improvement_surcharge.sort()\n",
    "print (unique_improvement_surcharge)\n",
    "#sns.boxplot(x=df['improvement_surcharge'])"
   ]
  },
  {
   "cell_type": "code",
   "execution_count": 21,
   "metadata": {},
   "outputs": [
    {
     "data": {
      "text/plain": [
       "<matplotlib.axes._subplots.AxesSubplot at 0x11a7e0710>"
      ]
     },
     "execution_count": 21,
     "metadata": {},
     "output_type": "execute_result"
    },
    {
     "data": {
      "image/png": "[encoded data removed]",
      "text/plain": [
       "<Figure size 432x288 with 1 Axes>"
      ]
     },
     "metadata": {
      "needs_background": "light"
     },
     "output_type": "display_data"
    }
   ],
   "source": [
    "#box plot of unique fare amount\n",
    "unique_fare_amount = [round(i, 2) for i in df['fare_amount'].unique()]\n",
    "unique_fare_amount.sort()\n",
    "# print (unique_fare_amount)\n",
    "sns.boxplot(x=df['fare_amount'])"
   ]
  },
  {
   "cell_type": "code",
   "execution_count": 22,
   "metadata": {},
   "outputs": [
    {
     "name": "stdout",
     "output_type": "stream",
     "text": [
      "9587515\n"
     ]
    }
   ],
   "source": [
    "#filter out by valid payments that was either paid by credit card or cash and the total amount is positive\n",
    "#ignoring the negative payments for now\n",
    "valid_df = df[((df['payment_type'] == 1) | (df['payment_type'] == 2)) & (df['total_amount'] > 0)]\n",
    "#calculate the z score of the total amount\n",
    "z = np.abs(stats.zscore(valid_df['total_amount']))\n",
    "print (len(z))"
   ]
  },
  {
   "cell_type": "code",
   "execution_count": 23,
   "metadata": {},
   "outputs": [
    {
     "data": {
      "text/plain": [
       "5773420    630463.12\n",
       "6007639    218317.09\n",
       "9218988      9999.99\n",
       "5640037      9999.99\n",
       "4201741      9999.99\n",
       "5203847      9999.99\n",
       "473417       8018.80\n",
       "2427507      3011.60\n",
       "2767752      1266.80\n",
       "6326359      1004.80\n",
       "Name: total_amount, dtype: float64"
      ]
     },
     "execution_count": 23,
     "metadata": {},
     "output_type": "execute_result"
    }
   ],
   "source": [
    "valid_df['total_amount'].sort_values(ascending=False)[:10]"
   ]
  },
  {
   "cell_type": "code",
   "execution_count": 24,
   "metadata": {},
   "outputs": [
    {
     "name": "stdout",
     "output_type": "stream",
     "text": [
      "9587428\n"
     ]
    }
   ],
   "source": [
    "# 95% of the data which excludes outliers from both ends\n",
    "# filter out everything that has a z score higher than 2 or less than -2\n",
    "df_filtered = valid_df[(z < 2) & (z > -2)]\n",
    "print (len(df_filtered))"
   ]
  },
  {
   "cell_type": "code",
   "execution_count": 25,
   "metadata": {},
   "outputs": [
    {
     "data": {
      "text/plain": [
       "367416     448.80\n",
       "5919443    447.80\n",
       "6363094    446.75\n",
       "6099961    445.30\n",
       "5115785    442.55\n",
       "5739363    440.72\n",
       "2166314    440.30\n",
       "7083935    437.80\n",
       "9219544    436.80\n",
       "9165790    435.00\n",
       "Name: total_amount, dtype: float64"
      ]
     },
     "execution_count": 25,
     "metadata": {},
     "output_type": "execute_result"
    }
   ],
   "source": [
    "#top total payment after being filtered\n",
    "df_filtered['total_amount'].sort_values(ascending=False)[:10]"
   ]
  },
  {
   "cell_type": "code",
   "execution_count": 26,
   "metadata": {},
   "outputs": [
    {
     "data": {
      "text/plain": [
       "<matplotlib.axes._subplots.AxesSubplot at 0x11956ba20>"
      ]
     },
     "execution_count": 26,
     "metadata": {},
     "output_type": "execute_result"
    },
    {
     "data": {
      "image/png": "[encoded data removed]",
      "text/plain": [
       "<Figure size 432x288 with 1 Axes>"
      ]
     },
     "metadata": {
      "needs_background": "light"
     },
     "output_type": "display_data"
    }
   ],
   "source": [
    "#box plot of new dataframe\n",
    "# better looking boxplot, but still pretty skewed\n",
    "sns.boxplot(x=df_filtered['total_amount'])"
   ]
  },
  {
   "cell_type": "code",
   "execution_count": 27,
   "metadata": {},
   "outputs": [
    {
     "data": {
      "text/plain": [
       "count    9.587428e+06\n",
       "mean     1.656888e+01\n",
       "std      1.436197e+01\n",
       "min      5.000000e-02\n",
       "25%      8.760000e+00\n",
       "50%      1.200000e+01\n",
       "75%      1.830000e+01\n",
       "max      4.488000e+02\n",
       "Name: total_amount, dtype: float64"
      ]
     },
     "execution_count": 27,
     "metadata": {},
     "output_type": "execute_result"
    }
   ],
   "source": [
    "#quick description of the enw data\n",
    "df_filtered['total_amount'].describe()"
   ]
  },
  {
   "cell_type": "code",
   "execution_count": 28,
   "metadata": {},
   "outputs": [
    {
     "name": "stdout",
     "output_type": "stream",
     "text": [
      "median of total amount:  12.0\n",
      "mean of total amount:  16.56887963591485\n"
     ]
    }
   ],
   "source": [
    "print (\"median of total amount: \",df_filtered['total_amount'].median())\n",
    "print (\"mean of total amount: \",df_filtered['total_amount'].mean())"
   ]
  },
  {
   "cell_type": "code",
   "execution_count": 29,
   "metadata": {},
   "outputs": [
    {
     "name": "stderr",
     "output_type": "stream",
     "text": [
      "/Users/SangYeob/anaconda2/envs/py3/lib/python3.5/site-packages/ipykernel_launcher.py:2: SettingWithCopyWarning: \n",
      "A value is trying to be set on a copy of a slice from a DataFrame.\n",
      "Try using .loc[row_indexer,col_indexer] = value instead\n",
      "\n",
      "See the caveats in the documentation: http://pandas.pydata.org/pandas-docs/stable/indexing.html#indexing-view-versus-copy\n",
      "  \n"
     ]
    }
   ],
   "source": [
    "#convert datatype from string to datetime\n",
    "df_filtered['tpep_dropoff_datetime'] = pd.to_datetime(df_filtered['tpep_dropoff_datetime'])"
   ]
  },
  {
   "cell_type": "code",
   "execution_count": 30,
   "metadata": {},
   "outputs": [
    {
     "name": "stderr",
     "output_type": "stream",
     "text": [
      "/Users/SangYeob/anaconda2/envs/py3/lib/python3.5/site-packages/ipykernel_launcher.py:2: SettingWithCopyWarning: \n",
      "A value is trying to be set on a copy of a slice from a DataFrame.\n",
      "Try using .loc[row_indexer,col_indexer] = value instead\n",
      "\n",
      "See the caveats in the documentation: http://pandas.pydata.org/pandas-docs/stable/indexing.html#indexing-view-versus-copy\n",
      "  \n"
     ]
    }
   ],
   "source": [
    "#convert datatype from string to datetime\n",
    "df_filtered['tpep_pickup_datetime'] = pd.to_datetime(df_filtered['tpep_pickup_datetime'])"
   ]
  },
  {
   "cell_type": "code",
   "execution_count": 31,
   "metadata": {},
   "outputs": [
    {
     "name": "stderr",
     "output_type": "stream",
     "text": [
      "/Users/SangYeob/anaconda2/envs/py3/lib/python3.5/site-packages/ipykernel_launcher.py:2: SettingWithCopyWarning: \n",
      "A value is trying to be set on a copy of a slice from a DataFrame.\n",
      "Try using .loc[row_indexer,col_indexer] = value instead\n",
      "\n",
      "See the caveats in the documentation: http://pandas.pydata.org/pandas-docs/stable/indexing.html#indexing-view-versus-copy\n",
      "  \n"
     ]
    }
   ],
   "source": [
    "#calculate how much time it took from one location to another\n",
    "df_filtered['time_diff'] = df_filtered['tpep_dropoff_datetime'] - df_filtered['tpep_pickup_datetime']"
   ]
  },
  {
   "cell_type": "code",
   "execution_count": 32,
   "metadata": {},
   "outputs": [
    {
     "name": "stderr",
     "output_type": "stream",
     "text": [
      "/Users/SangYeob/anaconda2/envs/py3/lib/python3.5/site-packages/ipykernel_launcher.py:2: SettingWithCopyWarning: \n",
      "A value is trying to be set on a copy of a slice from a DataFrame.\n",
      "Try using .loc[row_indexer,col_indexer] = value instead\n",
      "\n",
      "See the caveats in the documentation: http://pandas.pydata.org/pandas-docs/stable/indexing.html#indexing-view-versus-copy\n",
      "  \n"
     ]
    }
   ],
   "source": [
    "#convert the time difference to seconds\n",
    "df_filtered['time_diff'] = df_filtered['time_diff'].dt.total_seconds()"
   ]
  },
  {
   "cell_type": "code",
   "execution_count": 33,
   "metadata": {},
   "outputs": [
    {
     "data": {
      "text/plain": [
       "count    9.587428e+06\n",
       "mean     1.013815e+03\n",
       "std      3.328387e+03\n",
       "min      0.000000e+00\n",
       "25%      4.030000e+02\n",
       "50%      6.780000e+02\n",
       "75%      1.120000e+03\n",
       "max      8.644590e+05\n",
       "Name: time_diff, dtype: float64"
      ]
     },
     "execution_count": 33,
     "metadata": {},
     "output_type": "execute_result"
    }
   ],
   "source": [
    "df_filtered['time_diff'].describe()"
   ]
  },
  {
   "cell_type": "code",
   "execution_count": 34,
   "metadata": {},
   "outputs": [
    {
     "name": "stdout",
     "output_type": "stream",
     "text": [
      "9578693\n"
     ]
    }
   ],
   "source": [
    "#filter all the time that was 0. The meter was probably not triggered.\n",
    "df_filtered = df_filtered[df_filtered['time_diff'] > 0]\n",
    "print (len(df_filtered))"
   ]
  },
  {
   "cell_type": "code",
   "execution_count": 35,
   "metadata": {},
   "outputs": [],
   "source": [
    "#calculate the z score for the time_diff\n",
    "z = np.abs(stats.zscore(df_filtered['time_diff']))"
   ]
  },
  {
   "cell_type": "code",
   "execution_count": 36,
   "metadata": {},
   "outputs": [],
   "source": [
    "#filter out the records with bad times. If it takes more than 24 hours to go anywhere around NY,NJ area,\n",
    "# there is something wrong.\n",
    "df_filtered = df_filtered[(z < 2) & (z > -2)]"
   ]
  },
  {
   "cell_type": "code",
   "execution_count": 37,
   "metadata": {},
   "outputs": [
    {
     "data": {
      "text/html": [
       "<div>\n",
       "<style scoped>\n",
       "    .dataframe tbody tr th:only-of-type {\n",
       "        vertical-align: middle;\n",
       "    }\n",
       "\n",
       "    .dataframe tbody tr th {\n",
       "        vertical-align: top;\n",
       "    }\n",
       "\n",
       "    .dataframe thead th {\n",
       "        text-align: right;\n",
       "    }\n",
       "</style>\n",
       "<table border=\"1\" class=\"dataframe\">\n",
       "  <thead>\n",
       "    <tr style=\"text-align: right;\">\n",
       "      <th></th>\n",
       "      <th>VendorID</th>\n",
       "      <th>tpep_pickup_datetime</th>\n",
       "      <th>tpep_dropoff_datetime</th>\n",
       "      <th>passenger_count</th>\n",
       "      <th>trip_distance</th>\n",
       "      <th>RatecodeID</th>\n",
       "      <th>store_and_fwd_flag</th>\n",
       "      <th>PULocationID</th>\n",
       "      <th>DOLocationID</th>\n",
       "      <th>payment_type</th>\n",
       "      <th>fare_amount</th>\n",
       "      <th>extra</th>\n",
       "      <th>mta_tax</th>\n",
       "      <th>tip_amount</th>\n",
       "      <th>tolls_amount</th>\n",
       "      <th>improvement_surcharge</th>\n",
       "      <th>total_amount</th>\n",
       "      <th>time_diff</th>\n",
       "    </tr>\n",
       "  </thead>\n",
       "  <tbody>\n",
       "    <tr>\n",
       "      <th>0</th>\n",
       "      <td>2</td>\n",
       "      <td>2017-06-08 07:52:31</td>\n",
       "      <td>2017-06-08 08:01:32</td>\n",
       "      <td>6</td>\n",
       "      <td>1.03</td>\n",
       "      <td>1</td>\n",
       "      <td>N</td>\n",
       "      <td>161</td>\n",
       "      <td>140</td>\n",
       "      <td>1</td>\n",
       "      <td>7.5</td>\n",
       "      <td>1.0</td>\n",
       "      <td>0.5</td>\n",
       "      <td>1.86</td>\n",
       "      <td>0.0</td>\n",
       "      <td>0.3</td>\n",
       "      <td>11.16</td>\n",
       "      <td>541.0</td>\n",
       "    </tr>\n",
       "    <tr>\n",
       "      <th>1</th>\n",
       "      <td>2</td>\n",
       "      <td>2017-06-08 08:08:18</td>\n",
       "      <td>2017-06-08 08:14:00</td>\n",
       "      <td>6</td>\n",
       "      <td>1.03</td>\n",
       "      <td>1</td>\n",
       "      <td>N</td>\n",
       "      <td>162</td>\n",
       "      <td>233</td>\n",
       "      <td>1</td>\n",
       "      <td>6.0</td>\n",
       "      <td>1.0</td>\n",
       "      <td>0.5</td>\n",
       "      <td>2.34</td>\n",
       "      <td>0.0</td>\n",
       "      <td>0.3</td>\n",
       "      <td>10.14</td>\n",
       "      <td>342.0</td>\n",
       "    </tr>\n",
       "    <tr>\n",
       "      <th>3</th>\n",
       "      <td>2</td>\n",
       "      <td>2017-06-29 15:52:35</td>\n",
       "      <td>2017-06-29 16:03:27</td>\n",
       "      <td>6</td>\n",
       "      <td>1.43</td>\n",
       "      <td>1</td>\n",
       "      <td>N</td>\n",
       "      <td>142</td>\n",
       "      <td>48</td>\n",
       "      <td>1</td>\n",
       "      <td>8.5</td>\n",
       "      <td>1.0</td>\n",
       "      <td>0.5</td>\n",
       "      <td>0.88</td>\n",
       "      <td>0.0</td>\n",
       "      <td>0.3</td>\n",
       "      <td>11.18</td>\n",
       "      <td>652.0</td>\n",
       "    </tr>\n",
       "    <tr>\n",
       "      <th>4</th>\n",
       "      <td>1</td>\n",
       "      <td>2017-06-01 00:00:00</td>\n",
       "      <td>2017-06-01 00:03:43</td>\n",
       "      <td>1</td>\n",
       "      <td>0.60</td>\n",
       "      <td>1</td>\n",
       "      <td>N</td>\n",
       "      <td>140</td>\n",
       "      <td>141</td>\n",
       "      <td>1</td>\n",
       "      <td>4.5</td>\n",
       "      <td>0.5</td>\n",
       "      <td>0.5</td>\n",
       "      <td>2.00</td>\n",
       "      <td>0.0</td>\n",
       "      <td>0.3</td>\n",
       "      <td>7.80</td>\n",
       "      <td>223.0</td>\n",
       "    </tr>\n",
       "    <tr>\n",
       "      <th>8</th>\n",
       "      <td>1</td>\n",
       "      <td>2017-06-01 00:00:01</td>\n",
       "      <td>2017-06-01 00:01:43</td>\n",
       "      <td>1</td>\n",
       "      <td>0.20</td>\n",
       "      <td>1</td>\n",
       "      <td>N</td>\n",
       "      <td>148</td>\n",
       "      <td>148</td>\n",
       "      <td>2</td>\n",
       "      <td>3.0</td>\n",
       "      <td>0.5</td>\n",
       "      <td>0.5</td>\n",
       "      <td>0.00</td>\n",
       "      <td>0.0</td>\n",
       "      <td>0.3</td>\n",
       "      <td>4.30</td>\n",
       "      <td>102.0</td>\n",
       "    </tr>\n",
       "  </tbody>\n",
       "</table>\n",
       "</div>"
      ],
      "text/plain": [
       "   VendorID tpep_pickup_datetime tpep_dropoff_datetime  passenger_count  \\\n",
       "0         2  2017-06-08 07:52:31   2017-06-08 08:01:32                6   \n",
       "1         2  2017-06-08 08:08:18   2017-06-08 08:14:00                6   \n",
       "3         2  2017-06-29 15:52:35   2017-06-29 16:03:27                6   \n",
       "4         1  2017-06-01 00:00:00   2017-06-01 00:03:43                1   \n",
       "8         1  2017-06-01 00:00:01   2017-06-01 00:01:43                1   \n",
       "\n",
       "   trip_distance  RatecodeID store_and_fwd_flag  PULocationID  DOLocationID  \\\n",
       "0           1.03           1                  N           161           140   \n",
       "1           1.03           1                  N           162           233   \n",
       "3           1.43           1                  N           142            48   \n",
       "4           0.60           1                  N           140           141   \n",
       "8           0.20           1                  N           148           148   \n",
       "\n",
       "   payment_type  fare_amount  extra  mta_tax  tip_amount  tolls_amount  \\\n",
       "0             1          7.5    1.0      0.5        1.86           0.0   \n",
       "1             1          6.0    1.0      0.5        2.34           0.0   \n",
       "3             1          8.5    1.0      0.5        0.88           0.0   \n",
       "4             1          4.5    0.5      0.5        2.00           0.0   \n",
       "8             2          3.0    0.5      0.5        0.00           0.0   \n",
       "\n",
       "   improvement_surcharge  total_amount  time_diff  \n",
       "0                    0.3         11.16      541.0  \n",
       "1                    0.3         10.14      342.0  \n",
       "3                    0.3         11.18      652.0  \n",
       "4                    0.3          7.80      223.0  \n",
       "8                    0.3          4.30      102.0  "
      ]
     },
     "execution_count": 37,
     "metadata": {},
     "output_type": "execute_result"
    }
   ],
   "source": [
    "df_filtered.head()"
   ]
  },
  {
   "cell_type": "code",
   "execution_count": 38,
   "metadata": {},
   "outputs": [
    {
     "name": "stdout",
     "output_type": "stream",
     "text": [
      "9562778\n"
     ]
    }
   ],
   "source": [
    "#just checking the number of records\n",
    "print (len(df_filtered))"
   ]
  },
  {
   "cell_type": "code",
   "execution_count": 39,
   "metadata": {},
   "outputs": [
    {
     "data": {
      "text/plain": [
       "6545060    7673.0\n",
       "6774123    7672.0\n",
       "6406184    7672.0\n",
       "6785604    7671.0\n",
       "6710549    7670.0\n",
       "9005413    7665.0\n",
       "6775177    7664.0\n",
       "8428539    7664.0\n",
       "153816     7664.0\n",
       "1479216    7664.0\n",
       "Name: time_diff, dtype: float64"
      ]
     },
     "execution_count": 39,
     "metadata": {},
     "output_type": "execute_result"
    }
   ],
   "source": [
    "#Top hours is about 2 hours and 8 minutes, which seems more reasonable with traffic\n",
    "df_filtered['time_diff'].sort_values(ascending=False)[:10]"
   ]
  },
  {
   "cell_type": "code",
   "execution_count": 40,
   "metadata": {},
   "outputs": [
    {
     "name": "stdout",
     "output_type": "stream",
     "text": [
      "Top 10 most popular pick up location\n",
      "237    376917\n",
      "161    356052\n",
      "236    340920\n",
      "162    329168\n",
      "186    325340\n",
      "170    312850\n",
      "230    306733\n",
      "234    305820\n",
      "48     299049\n",
      "142    273872\n",
      "Name: PULocationID, dtype: int64\n"
     ]
    }
   ],
   "source": [
    "print (\"Top 10 most popular pick up location\")\n",
    "print (df_filtered['PULocationID'].value_counts()[:10])"
   ]
  },
  {
   "cell_type": "code",
   "execution_count": 41,
   "metadata": {},
   "outputs": [
    {
     "name": "stdout",
     "output_type": "stream",
     "text": [
      "Top 10 most popular drop off location\n",
      "161    361452\n",
      "236    348681\n",
      "237    330420\n",
      "170    308691\n",
      "230    295746\n",
      "162    294870\n",
      "234    264300\n",
      "186    259783\n",
      "48     253196\n",
      "142    244460\n",
      "Name: DOLocationID, dtype: int64\n"
     ]
    }
   ],
   "source": [
    "print (\"Top 10 most popular drop off location\")\n",
    "print (df_filtered['DOLocationID'].value_counts()[:10])"
   ]
  },
  {
   "cell_type": "code",
   "execution_count": 42,
   "metadata": {},
   "outputs": [],
   "source": [
    "#group by pick up zoneo and drop off zone with the average cost and time it took\n",
    "new_df = df_filtered.groupby(['PULocationID','DOLocationID'])['total_amount','time_diff'].mean()\n",
    "\n",
    "#To optimize profit, it's best to find which PU zone and DO zone makes the most money per time\n",
    "new_df['efficiency'] = new_df['total_amount']/new_df['time_diff']"
   ]
  },
  {
   "cell_type": "code",
   "execution_count": 43,
   "metadata": {},
   "outputs": [],
   "source": [
    "#turn dataframe into dictionary\n",
    "dic = new_df.to_dict('index')"
   ]
  },
  {
   "cell_type": "code",
   "execution_count": 44,
   "metadata": {},
   "outputs": [
    {
     "name": "stdout",
     "output_type": "stream",
     "text": [
      "pick up location ID:  87\n",
      "drop off location ID:  229\n",
      "{'time_diff': 1123.2120395327943, 'total_amount': 22.78673854447418, 'efficiency': 0.02028712099093279}\n"
     ]
    }
   ],
   "source": [
    "#to check if the dictionary is what I expected\n",
    "for k,v in dic.items():\n",
    "    print (\"pick up location ID: \",k[0])\n",
    "    print (\"drop off location ID: \",k[1])\n",
    "    print (v)\n",
    "    break"
   ]
  },
  {
   "cell_type": "code",
   "execution_count": 45,
   "metadata": {},
   "outputs": [],
   "source": [
    "#get a list of all unique PU IDs\n",
    "PU_ID = list(df_filtered['PULocationID'].unique())\n",
    "PU_ID.sort()"
   ]
  },
  {
   "cell_type": "code",
   "execution_count": 46,
   "metadata": {},
   "outputs": [],
   "source": [
    "#get a list of all unique DO IDs\n",
    "DO_ID = list(df_filtered['DOLocationID'].unique())\n",
    "DO_ID.sort()"
   ]
  },
  {
   "cell_type": "code",
   "execution_count": 47,
   "metadata": {},
   "outputs": [
    {
     "name": "stdout",
     "output_type": "stream",
     "text": [
      "5\n",
      "99\n",
      "103\n",
      "110\n",
      "199\n"
     ]
    }
   ],
   "source": [
    "# Nobody was ever picked from these zones\n",
    "for i in range(min(PU_ID),max(PU_ID)+1):\n",
    "    if i not in PU_ID:\n",
    "        print (i)"
   ]
  },
  {
   "cell_type": "code",
   "execution_count": 48,
   "metadata": {},
   "outputs": [
    {
     "name": "stdout",
     "output_type": "stream",
     "text": [
      "103\n",
      "104\n",
      "199\n"
     ]
    }
   ],
   "source": [
    "# Nobody was ever dropped off from these zones\n",
    "for i in range(min(DO_ID),max(DO_ID)+1):\n",
    "    if i not in DO_ID:\n",
    "        print (i)"
   ]
  },
  {
   "cell_type": "code",
   "execution_count": 49,
   "metadata": {},
   "outputs": [],
   "source": [
    "#initialize max profit and max time and profit list\n",
    "max_profit = 0\n",
    "max_time = 0\n",
    "profit_lst = []\n",
    "\n",
    "#iterate through each PU ID\n",
    "for pu in PU_ID:\n",
    "    #print (pu)\n",
    "    profit = 0\n",
    "    max_time = 0\n",
    "    #keep going through each locations until 10 hours\n",
    "    while max_time <= 10*3600:\n",
    "        pickup = pu\n",
    "        max_efficiency = 0\n",
    "        #iterate through all possible locations\n",
    "        for k,v in dic.items():\n",
    "            #hacky fix to not be stuck in the same zone\n",
    "            if pickup in [27,109,204,214,245,264,265]:\n",
    "                #pick a different pickup zone\n",
    "                new_PU_ID = []\n",
    "                for k in dic.keys():\n",
    "                    if pickup == k[0]:\n",
    "                        #compile all the zones you could go from the current zone\n",
    "                        new_PU_ID.append(k[1])\n",
    "                if len(new_PU_ID) == 1:\n",
    "                    #if there are no other zones you can go to, use the entire list\n",
    "                    new_PU_ID = PU_ID\n",
    "                #pick a random zone so that you won't be stuck in the same zone    \n",
    "                pickup = random.choice(new_PU_ID)\n",
    "                \n",
    "            if pickup == k[0]:\n",
    "                efficiency = v['efficiency']\n",
    "#                 if pickup == 264 or pickup == 265:\n",
    "#                     pickup = random.choice(PU_ID)\n",
    "                #find the drop off zone where you could profit most out of (more profit/less time)\n",
    "                if efficiency > max_efficiency and pickup != k[1]:\n",
    "                    max_efficiency = efficiency\n",
    "\n",
    "                    time_diff = v['time_diff']\n",
    "                    total_amount = v['total_amount']\n",
    "                    \n",
    "                    #add the time it spent to go from the pick up location to the drop off location\n",
    "                    max_time += time_diff\n",
    "                    #add the profit\n",
    "                    profit += total_amount\n",
    "                    \n",
    "                    #reset the pick up location as the current drop off location\n",
    "                    pickup = k[1]\n",
    "    \n",
    "    #add the profit\n",
    "    profit_lst.append(profit)\n",
    "    \n",
    "#     if profit > max_profit:\n",
    "#         max_profit = profit"
   ]
  },
  {
   "cell_type": "code",
   "execution_count": 50,
   "metadata": {},
   "outputs": [],
   "source": [
    "def reject_outliers(data, m=2):\n",
    "    #rejects outliers from a numpy array\n",
    "    data = np.array(data)\n",
    "    return data[abs(data - np.mean(data)) < m * np.std(data)]"
   ]
  },
  {
   "cell_type": "code",
   "execution_count": 51,
   "metadata": {},
   "outputs": [],
   "source": [
    "# filter profit list of outliers\n",
    "# reason could be that I wasn't able to filter unreasonably short time and/or high total amount\n",
    "filtered_profit_lst = reject_outliers(profit_lst)"
   ]
  },
  {
   "cell_type": "code",
   "execution_count": 56,
   "metadata": {},
   "outputs": [
    {
     "name": "stdout",
     "output_type": "stream",
     "text": [
      "max profit before filtering:  10059.59999999999\n",
      "average profit before filtering:  1430.2695608794825\n",
      "minimum profit before filtering:  591.4611111111112\n",
      "median profit before filtering:  1268.2284963542334\n"
     ]
    }
   ],
   "source": [
    "print (\"max profit before filtering: \", max(profit_lst))\n",
    "print (\"average profit before filtering: \", np.mean(profit_lst))\n",
    "print (\"minimum profit before filtering: \", min(profit_lst))\n",
    "print (\"median profit before filtering: \", np.median(profit_lst))\n",
    "# I think I would like to become a taxi driver if I could make 10k in 10 hours\n",
    "# but this is before the profit is filtered with outliers"
   ]
  },
  {
   "cell_type": "code",
   "execution_count": 53,
   "metadata": {},
   "outputs": [
    {
     "name": "stdout",
     "output_type": "stream",
     "text": [
      "max profit after filtering:  2752.482857142857\n",
      "average profit after filtering:  1325.9189589995358\n",
      "minimum profit after filtering:  591.4611111111112\n",
      "median profit after filtering:  1251.4999999999993\n"
     ]
    }
   ],
   "source": [
    "print (\"max profit after filtering: \", max(filtered_profit_lst))\n",
    "print (\"average profit after filtering: \", np.mean(filtered_profit_lst))\n",
    "print (\"minimum profit after filtering: \", min(filtered_profit_lst))\n",
    "print (\"median profit after filtering: \", np.median(filtered_profit_lst))\n"
   ]
  },
  {
   "cell_type": "code",
   "execution_count": 54,
   "metadata": {},
   "outputs": [
    {
     "name": "stdout",
     "output_type": "stream",
     "text": [
      "Q1 quantile of profit :  1070.937503335637\n",
      "Q2 quantile of profit :  1251.4999999999993\n",
      "Q3 quantile of profit :  1513.9032769423557\n"
     ]
    }
   ],
   "source": [
    "print(\"Q1 quantile of profit : \", np.quantile(filtered_profit_lst, .25)) \n",
    "print(\"Q2 quantile of profit : \", np.quantile(filtered_profit_lst, .50)) \n",
    "print(\"Q3 quantile of profit : \", np.quantile(filtered_profit_lst, .75)) "
   ]
  },
  {
   "cell_type": "markdown",
   "metadata": {},
   "source": [
    "## Conclusion\n",
    "\n"
   ]
  },
  {
   "cell_type": "markdown",
   "metadata": {},
   "source": [
    "Initially, I wanted to break it down by each components: fare amount, extra, mta_tax, improvement surcharge, tip amount, tolls_amount, and total amount. For the fare amount, I wanted to calulate the fare amount between zones using the average distance between zones and the average time it took between zones. Also, in the data dictionary, it seemed like everything other than fare amount and tip amount should be fixed, but it turned out that it wasn't the case. Therefore, I just took total amount to represent income since it takes all those other payments to calculate the total amount. However, I did try to filter out any outliers by using z scores. I tried to standardize the output as much as possible by filtering out the outliers in total amount and also the time difference. \n",
    "\n",
    "I didn't take passenger_count into an account because I don't think the total amount would vary significantly with the number of passengers. The trip distance is factored in the fare amount along with the time, so I didn't bother exploring more into it for this particular exercise. When I was looking at the data with different RateCodeID, nothing significantly stood out and most of the data were recorded as standard rate. The store_and_fwd_flag is a very good indicator whether the data is properly recorded or not. However, I ignored the store_and_fwd_flag because the percentage of data was less than 1% when store_and_fwd_flag was Y. I didn't want to toss out more than 99% of data.\n",
    "\n",
    "To calculate the maximum profit, I tried a brute force way of optimizing the income for 10 hours of driving by going from one zone to another. I started at a different starting location everytime, but I would only move to other drop off location where it would give me the maximum amount of profit in the shortest time. I had to make a lot of assumptions such as one pick up zone is always the same geographical location(same latitude/longitude), the customer is always available at any particular pick up locations, you are always starting at the pick up zone, and it's non stop driving until you hit 10 hours. The time of the day and the day of the week is not considered either. Most of the assumptions are not reflected truly in the real world, so the income that I calculate will be less in reality.\n",
    "\n",
    "From my algorithm, it shows that the maximum profit one could make in 10 hours is 2752.48 dollars. The median income is 1251.50 dollars. The average income is 1325.92 dollars. \n",
    "\n",
    "Some things I would like to add to the database is actual geo locations or some sort of map data where I will know exactly the customer was picked up and dropped off. The analysis is done based on the zone, but I don't know how big each zone is. Also, the time it took from dropping off a customer and picking up another customer is not taken into consideration for my model. The data dictionary also states that cash tip is not included in the total amount. It would be a valuable information to have since 3073865 customers paid with cash. Information like driver ID would be useful in order to calculate how much time it takes between dropping off a customer and picking up a new customer for average drivers.\n",
    "\n",
    "For my optimization algorithm, it was brute force way, but more advanced algorithms could be used such as Q-learning to calculate the optimal route with maximum profit."
   ]
  },
  {
   "cell_type": "code",
   "execution_count": null,
   "metadata": {},
   "outputs": [],
   "source": []
  }
 ],
 "metadata": {
  "kernelspec": {
   "display_name": "Python 3",
   "language": "python",
   "name": "python3"
  },
  "language_info": {
   "codemirror_mode": {
    "name": "ipython",
    "version": 3
   },
   "file_extension": ".py",
   "mimetype": "text/x-python",
   "name": "python",
   "nbconvert_exporter": "python",
   "pygments_lexer": "ipython3",
   "version": "3.5.6"
  }
 },
 "nbformat": 4,
 "nbformat_minor": 2
}
